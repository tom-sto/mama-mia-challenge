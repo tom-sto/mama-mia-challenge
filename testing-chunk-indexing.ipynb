{
 "cells": [
  {
   "cell_type": "code",
   "execution_count": 1,
   "id": "289b982c",
   "metadata": {},
   "outputs": [],
   "source": [
    "def i(pX, pY, pZ, chunkSize, overlap=2):\n",
    "    n = int(overlap)\n",
    "    nX = max(1, pX // (chunkSize[0] // n))\n",
    "    nX = max(1, nX - (1 - pX % nX))\n",
    "    nY = max(1, pY // (chunkSize[1] // n))\n",
    "    nY = max(1, nY - (1 - pY % nY))\n",
    "    nZ = max(1, pZ // (chunkSize[2] // n))\n",
    "    nZ = max(1, nZ - (1 - pZ % nZ))\n",
    "    print(f\"nx = {nX}, ny = {nY}, nz = {nZ}\")\n",
    "    indices = []\n",
    "    for i in range(nX):\n",
    "        x = min(i * chunkSize[0] / n, pX - chunkSize[0])\n",
    "        x = max(x, 0)\n",
    "        for j in range(nY):\n",
    "            y = min(j * chunkSize[1] / n, pY - chunkSize[1])\n",
    "            y = max(y, 0)\n",
    "            for k in range(nZ):\n",
    "                z = min(k * chunkSize[2] / n, pZ - chunkSize[2])\n",
    "                z = max(z, 0)\n",
    "                indices.append((int(x), int(y), int(z)))\n",
    "                print(int(x), int(y), int(z), end=\"\\t\")\n",
    "            print()\n",
    "        print()\n",
    "            \n",
    "    return indices"
   ]
  },
  {
   "cell_type": "code",
   "execution_count": 2,
   "id": "1ef5a64e",
   "metadata": {},
   "outputs": [
    {
     "name": "stdout",
     "output_type": "stream",
     "text": [
      "nx = 2, ny = 3, nz = 2\n",
      "0 0 0\t0 0 1\t\n",
      "0 2 0\t0 2 1\t\n",
      "0 3 0\t0 3 1\t\n",
      "\n",
      "2 0 0\t2 0 1\t\n",
      "2 2 0\t2 2 1\t\n",
      "2 3 0\t2 3 1\t\n",
      "\n"
     ]
    }
   ],
   "source": [
    "pX, pY, pZ = 6, 7, 5\n",
    "chunkSize = (4, 4, 4)\n",
    "_ = i(pX, pY, pZ, chunkSize)"
   ]
  },
  {
   "cell_type": "code",
   "execution_count": 3,
   "id": "dd131b05",
   "metadata": {},
   "outputs": [
    {
     "name": "stdout",
     "output_type": "stream",
     "text": [
      "nx = 2, ny = 6, nz = 2\n",
      "0 0 0\t0 0 1\t\n",
      "0 1 0\t0 1 1\t\n",
      "0 2 0\t0 2 1\t\n",
      "0 3 0\t0 3 1\t\n",
      "0 4 0\t0 4 1\t\n",
      "0 5 0\t0 5 1\t\n",
      "\n",
      "2 0 0\t2 0 1\t\n",
      "2 1 0\t2 1 1\t\n",
      "2 2 0\t2 2 1\t\n",
      "2 3 0\t2 3 1\t\n",
      "2 4 0\t2 4 1\t\n",
      "2 5 0\t2 5 1\t\n",
      "\n"
     ]
    }
   ],
   "source": [
    "pX, pY, pZ = 6, 7, 5\n",
    "chunkSize = (4, 2, 4)\n",
    "_ = i(pX, pY, pZ, chunkSize)"
   ]
  },
  {
   "cell_type": "code",
   "execution_count": 70,
   "id": "0aad5f9b",
   "metadata": {},
   "outputs": [
    {
     "name": "stdout",
     "output_type": "stream",
     "text": [
      "nx = 4, ny = 6, nz = 1\n",
      "0 0 0\t\n",
      "0 2 0\t\n",
      "0 4 0\t\n",
      "0 6 0\t\n",
      "0 8 0\t\n",
      "0 9 0\t\n",
      "\n",
      "2 0 0\t\n",
      "2 2 0\t\n",
      "2 4 0\t\n",
      "2 6 0\t\n",
      "2 8 0\t\n",
      "2 9 0\t\n",
      "\n",
      "4 0 0\t\n",
      "4 2 0\t\n",
      "4 4 0\t\n",
      "4 6 0\t\n",
      "4 8 0\t\n",
      "4 9 0\t\n",
      "\n",
      "5 0 0\t\n",
      "5 2 0\t\n",
      "5 4 0\t\n",
      "5 6 0\t\n",
      "5 8 0\t\n",
      "5 9 0\t\n",
      "\n"
     ]
    }
   ],
   "source": [
    "pX, pY, pZ = 9, 13, 1\n",
    "chunkSize = (4, 4, 4)\n",
    "_ = i(pX, pY, pZ, chunkSize)"
   ]
  }
 ],
 "metadata": {
  "kernelspec": {
   "display_name": ".venv",
   "language": "python",
   "name": "python3"
  },
  "language_info": {
   "codemirror_mode": {
    "name": "ipython",
    "version": 3
   },
   "file_extension": ".py",
   "mimetype": "text/x-python",
   "name": "python",
   "nbconvert_exporter": "python",
   "pygments_lexer": "ipython3",
   "version": "3.12.10"
  }
 },
 "nbformat": 4,
 "nbformat_minor": 5
}
